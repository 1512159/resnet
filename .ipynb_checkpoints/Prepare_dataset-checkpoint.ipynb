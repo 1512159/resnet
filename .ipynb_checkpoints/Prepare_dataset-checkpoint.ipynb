{
 "cells": [
  {
   "cell_type": "code",
   "execution_count": 12,
   "metadata": {},
   "outputs": [],
   "source": [
    "#read from xml file:\n",
    "INP_FILE = \"/home/hthieu/AICityChallenge2019/data/VeRi/test_label.xml\"\n",
    "import xml.etree.ElementTree as ET\n",
    "xmlp = ET.XMLParser(encoding=\"utf-8\")\n",
    "tree = ET.parse(INP_FILE,parser=xmlp)\n",
    "root = tree.getroot()\n",
    "items = root[0].findall(\"Item\")\n",
    "with open(\"data/veri_type_id_test.csv\",\"w\") as fo:\n",
    "    for item in items:\n",
    "        fo.write(\"{},image_test/{}\\n\".format(int(item.attrib['typeID'])-1,item.attrib['imageName']))"
   ]
  },
  {
   "cell_type": "code",
   "execution_count": 11,
   "metadata": {},
   "outputs": [
    {
     "name": "stdout",
     "output_type": "stream",
     "text": [
      "001 002\n"
     ]
    }
   ],
   "source": [
    "class ABC:\n",
    "    def __init__(self):\n",
    "        self.x = 0\n",
    "        self.y = 0\n",
    "a = ABC()\n",
    "a.x = 1\n",
    "a.y = 2\n",
    "print(\"{b.x:03d} {b.y:03d}\".format(b = a))"
   ]
  },
  {
   "cell_type": "code",
   "execution_count": null,
   "metadata": {},
   "outputs": [],
   "source": []
  }
 ],
 "metadata": {
  "kernelspec": {
   "display_name": "Python 3",
   "language": "python",
   "name": "python3"
  },
  "language_info": {
   "codemirror_mode": {
    "name": "ipython",
    "version": 3
   },
   "file_extension": ".py",
   "mimetype": "text/x-python",
   "name": "python",
   "nbconvert_exporter": "python",
   "pygments_lexer": "ipython3",
   "version": "3.5.2"
  }
 },
 "nbformat": 4,
 "nbformat_minor": 2
}
